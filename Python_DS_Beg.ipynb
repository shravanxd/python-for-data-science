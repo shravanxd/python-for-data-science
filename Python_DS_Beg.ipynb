{
 "cells": [
  {
   "cell_type": "markdown",
   "id": "00064efd-ea14-4a65-9a02-ff04ceeb4c39",
   "metadata": {},
   "source": [
    "<img src=\"C:/Users/shrav/Downloads/neuracamp_logo.png\" alt=\"NeuraCamp Logo\" width=\"150\" height=\"100\"/>\n",
    "\n",
    "# Python for Data Science - Beginner\n",
    "Author: [Shravan Khunti](https://www.linkedin.com/in/shravan-khunti)"
   ]
  },
  {
   "cell_type": "markdown",
   "id": "69bc4c2d-10b8-48ba-a4ae-9b96091273b1",
   "metadata": {},
   "source": [
    "# Lesson 1: Welcome & Setup"
   ]
  },
  {
   "cell_type": "markdown",
   "id": "fd325760-615f-47ad-8fde-8a995d9c8e6b",
   "metadata": {
    "jp-MarkdownHeadingCollapsed": true
   },
   "source": [
    "<em> Some courses start with corporate poetry about “AI transformation pipelines” and “leveraging data ecosystems.” Not here. We’re going straight to what matters. </em>\n",
    "\n",
    "Python for Data Science is **awesome**. Not \"awesome\" in a bland, corporate way – I mean actually game-changing, fun, and yes, extremely valuable.\n",
    "\n",
    "In this first lesson, we'll set the stage for your journey from newbie to data ninja. Buckle up, because we're about to dive into: why Python is the go-to language for data science, how companies use data science (and why they *love* hiring people who can do it), what this course will cover, and how to get your environment set up.\n",
    "\n",
    "By the end, you'll even run your very first Python code.\n",
    "\n",
    "Sound good? Great, let's get started!"
   ]
  },
  {
   "cell_type": "markdown",
   "id": "7b068164-7661-4dec-80a5-76e7a0e3a6d6",
   "metadata": {},
   "source": [
    "# Why Python for Data Science Rocks\n",
    "\n",
    "Python is the **MVP of data science** – the Most Versatile Player. Sure, there are other tools and languages out there (shoutout to R, Excel, SQL, etc.), but Python hits the sweet spot. It's easy to learn *and* incredibly powerful. You can use Python to wrangle a million-row dataset before your morning coffee, automate boring tasks, build machine learning models, or even deploy a web service. In other words, Python lets you do *everything* from quick data tweaks to building the next big AI app.\n",
    "\n",
    "Companies know this, and they have practically adopted Python as the unofficial language of data science. Why? Because it gets the job done. **Fast.** Need to analyze user behavior from a mobile app? Python can do that. Want to prototype a machine learning model to predict sales? Python’s got your back. From **startups to Fortune 500** giants, everyone uses Python. Google, Netflix, Spotify, Instagram, **NASA** – you name it – they all use Python in some part of their tech stack. In fact, walk into any data science team’s daily stand-up meeting and you'll hear Python all over the place:\n",
    "\n",
    "> \"I wrote a script to process those logs...\"  \n",
    "> \"Let's use this Python library to visualize the results.\"\n",
    "\n",
    "It's everywhere in industry, powering **data-driven decisions** and crazy cool innovations.\n",
    "\n",
    "---\n",
    "\n",
    "But let's be real: one big reason Python rocks is **what it can do for *you*.** Learning Python (and data science) can open doors to exciting projects *and* high-paying jobs.  \n",
    "\n",
    "> Data Science has been called *\"the sexiest job of the 21st century,\"* and while we chuckle at the phrasing, it’s true that skilled data folks are in **hot demand**.\n",
    "\n",
    "Companies are desperate for people who can turn their mountains of data into actionable insights. Whether it's helping a retailer figure out what product to stock up on, or enabling a healthcare company to predict disease outbreaks, data skills are driving real impact – and employers pay top dollar for them.\n",
    "\n",
    "So if you master Python for data science, you're not just picking up a new hobby – you're investing in a valuable career skill.  \n",
    "***(Cha-ching!)***\n",
    "\n",
    "### Python Trivia That Actually Shows Up in Interviews\n",
    "\n",
    "Some recruiters sneak in Python history or trivia to see if you've done your homework. Here's the good stuff you should know:\n",
    "\n",
    "**Who created Python?**  \n",
    "[Guido van Rossum](https://en.wikipedia.org/wiki/Guido_van_Rossum), in the late 1980s while working at [CWI](https://en.wikipedia.org/wiki/Centrum_Wiskunde_%26_Informatica) in the Netherlands.\n",
    "\n",
    "**Why is it called Python?**  \n",
    "It’s named after *Monty Python’s Flying Circus* (not the snake) — Guido wanted a name that was fun and unique.\n",
    "\n",
    "**When was it released?**  \n",
    "First official version (Python 0.9.0) dropped in 1991.\n",
    "\n",
    "**What kind of language is Python?**  \n",
    "- **Interpreted**:  \n",
    "  You don’t need to “compile” your Python code like in some other languages. You just write it and run it directly. Think of it like writing a note and immediately reading it out loud — no extra steps.\n",
    "\n",
    "- **High-level**:  \n",
    "  Python is close to human language. You don’t have to worry about computer memory, hardware stuff, or writing 10 lines just to do something simple. You can focus on logic and problem-solving.\n",
    "\n",
    "- **Dynamically typed**:  \n",
    "  You don’t have to say what type of data (like number or text) you're using — Python figures it out. For example, just write `x = 5` and Python knows it's a number.\n",
    "\n",
    "- **Supports object-oriented, procedural, and functional programming**:  \n",
    "  Python gives you multiple ways to write your code:\n",
    "  - **Object-oriented**: Organize code into reusable “objects” (like mini-programs).\n",
    "  - **Procedural**: Write a step-by-step list of instructions (like a recipe).\n",
    "  - **Functional**: Treat your code like math functions — clean, modular, and reusable. \n",
    "\n",
    "**Why do companies love it?**  \n",
    "- Simple, readable syntax  \n",
    "- Huge libraries for data and ML  \n",
    "- Jupyter Notebooks = easy experimentation  \n",
    "- Works well with SQL, APIs, cloud tools  \n",
    "- Used at Google, Netflix, Meta, Amazon — everywhere\n",
    "\n",
    "---\n",
    "\n",
    "Don’t worry if this felt a bit jargon-y. By the end of this course, you’ll understand (and casually drop) all these terms like a pro."
   ]
  },
  {
   "cell_type": "markdown",
   "id": "88bbb13d-a66f-48a3-8886-33aba16ff249",
   "metadata": {},
   "source": [
    "# What *Is* Data Science (and Why Do Companies Care)?\n",
    "\n",
    "**Data Science** is a fancy term for **extracting insights from data**. That’s it, plain and simple. It’s what happens when you take raw information (like sales numbers, web clicks, sensor readings, you name it) and **analyze** it to find patterns, answer questions, or make predictions.\n",
    "\n",
    "Think of data scientists as detectives, but instead of solving crimes, they're solving business problems using data clues. They clean and examine datasets to discover trends (\"Hey, our users in Europe are spending more on weekends\"), build models to predict future events (\"Which customers are likely to cancel their subscription next month?\"), present those insights in a compelling way (\"Here’s a neat graph showing our growth projections\"), and sometimes even uncover hidden patterns that make you go “wait, what?” like how Walmart discovered that strawberry Pop-Tarts sales spike sevenfold before hurricanes because, obviously, that’s the top survival food! ([check out a short case study on it here](https://www.snowdatascience.org/post/how-data-science-helped-walmart-predict-sales-during-a-hurricane))\n",
    "\n",
    "---\n",
    "\n",
    "Why do companies care so much about this?  \n",
    "**Money and competitive edge.** In today’s world, data is *gold*. Companies that harness their data effectively can outsmart and outrun those that don’t.\n",
    "\n",
    "For example:\n",
    "- An e-commerce company might use data science to personalize recommendations – ever wonder how Amazon seems to know what you want to buy next?\n",
    "- A logistics company might use it to optimize delivery routes and save on fuel costs – which is probably why your Amazon Prime order shows up faster than your regrets.\n",
    "- Social media platforms use data science to keep you engaged (or addicted 😅) by showing content you're likely to interact with.\n",
    "\n",
    "Essentially, data science helps organizations make **informed decisions** rather than gut feelings. Whether it’s reducing operational costs, improving customer experience, or identifying new market opportunities, data-driven decisions give companies a **big advantage**.\n",
    "\n",
    "They care about data science because it translates to tangible business value – and no one likes leaving money on the table.\n",
    "\n",
    "---\n",
    "\n",
    "From a career perspective, this is great news for *you*. If you can speak the language of data – and that’s exactly what Python will enable you to do – you're an instant MVP in those companies.\n",
    "\n",
    "You'll be the person who can **back up ideas with facts and figures**, who can build a quick prototype to test a hunch, or dig into the database to answer that weird question your manager just thought up. When everyone’s tossing around opinions in a meeting, you’ll be the one bringing the *data* — and in today's world, **data >>> opinion**, every single time. It’s a powerful position to be in.\n",
    "\n",
    "In short, **data science is impactful**:  \n",
    "- It’s how Netflix decides what show to produce next  \n",
    "- How hospitals identify at-risk patients  \n",
    "- How banks detect suspicious activity and lock your card while you're still on the checkout page 😭 \n",
    "\n",
    "By learning it, you’re basically learning how to read the story hidden in piles of numbers – a story every company wants to hear.\n"
   ]
  },
  {
   "cell_type": "markdown",
   "id": "4454b436-5432-4233-b666-41233ab25302",
   "metadata": {},
   "source": [
    "# What You’ll Learn in This Course (Overview)\n",
    "\n",
    "Before we jump into setup details, here's a quick roadmap of where we're headed. We’ve structured the course in **three levels** – Beginner, Intermediate, and Advanced – to take you from zero to hero in data science with Python. After completing all three levels, I’m pretty sure you’ll be ready to crack that FAANG, MAANG, MANGA — oh god, whatever acronym you’re following these days. Each module has a different vibe and goal, and yes, you will be doing a lot of coding! Yes, coding! This is not a blog where you just sit back and read. You can only become a solid data person or programmer if you build the habit of actually writing code. That is why I have designed NeuraCamp so every topic, lesson, and module comes packed with hands-on exercises inside Jupyter notebooks and coding terminals hosted by us. And yes, it is completely free to use!:\n",
    "\n",
    "\n",
    "---\n",
    "\n",
    "### • Beginner Level:\n",
    "We assume you **know nothing** about coding or Python. Everyone starts somewhere!\n",
    "\n",
    "In this part of the course, we'll cover Python basics from the ground up. You’ll learn how to use Python like a calculator, manipulate text, and work with fundamental data structures (lists, dictionaries, etc.).\n",
    "\n",
    "We’ll introduce you to **Jupyter Notebooks**, an awesome tool for writing and running code interactively (more on that soon). By the end of the beginner module, you'll be comfortable writing small programs, using libraries like **NumPy** and **Pandas** to play with data, and even loading real datasets.\n",
    "\n",
    "In short, we'll get you from \"Hello, World!\" to actually exploring data in Python.\n",
    "\n",
    "---\n",
    "\n",
    "### • Intermediate Level:\n",
    "Now things get **interesting**.\n",
    "\n",
    "This part is all about becoming a **productive data analyst/scientist**. You’ll dive deeper into **data wrangling**: cleaning messy data, filtering and grouping data to answer specific questions, and merging datasets together.\n",
    "\n",
    "We’ll emphasize **exploratory data analysis** – basically, slicing and dicing data to uncover insights. Expect to create your first **visualizations** with Python libraries like **Matplotlib** and **Seaborn** (because a picture is worth a thousand rows of data).\n",
    "\n",
    "We'll also introduce the fundamentals of **machine learning** – yep, by the end of this module you'll build and evaluate your first predictive models (think linear regression and simple classifiers).\n",
    "\n",
    "And because real-world data often lives in databases, you'll even learn how to use **SQL inside Python** to pull in data.\n",
    "\n",
    "This level ties together programming and analysis skills, preparing you to tackle real business questions.\n",
    "\n",
    "---\n",
    "\n",
    "### • Advanced Level:\n",
    "Time to level up to **data science ninja**.\n",
    "\n",
    "The advanced module pushes you into the realm of cutting-edge techniques and larger-scale data. We'll cover more complex machine learning models like:\n",
    "- **Decision Trees**\n",
    "- **Random Forests**\n",
    "- **Boosting Algorithms**\n",
    "\n",
    "These often win Kaggle competitions and impress employers.\n",
    "\n",
    "You’ll practice techniques for **model tuning and evaluation** – making sure your models aren’t just accurate, but also robust and reliable. We’ll also explore **unsupervised learning** (like clustering customers into segments when you don't have labeled data).\n",
    "\n",
    "Let’s not forget the buzzwords: you’ll get a taste of **deep learning & AI** with neural networks, and learn how to handle **Big Data** using tools like **PySpark** (because not all data fits in an Excel sheet or even in Pandas!).\n",
    "\n",
    "Finally, we’ll teach you how to gather data from the modern web – using **APIs** and **web scraping** – so you can fuel your projects with interesting datasets.\n",
    "\n",
    "By the end, you’ll run through an **end-to-end project** pulling together everything: data acquisition, cleaning, analysis, modeling, and even presenting results.\n",
    "\n",
    "In other words, you'll be ready to handle real-world data science tasks from scratch. 🎓\n",
    "\n",
    "---\n",
    "\n",
    "Also, we’ve got **plenty of exercises and challenges** inspired by actual interview questions and real-world scenarios. As you progress, you won’t just passively read or watch — you’ll actively **do**. I highly recommend jumping into the problems once you're ready — they’ve been carefully curated based on real interviews, so they mirror the kind of questions top companies actually ask.\n",
    "\n",
    "If you’ve ever used platforms like LeetCode, HackerRank, or CodeChef, you’ll feel right at home — but here, it’s all integrated into your learning flow. Practicing regularly is one of the most effective ways to build muscle memory for coding interviews, especially at competitive high-impact companies.\n",
    "\n",
    "By the time you're through, you’ll have built a portfolio of code and mini-projects that you can even show off to potential employers. The journey from beginner to end isn't intense but also really fun – and we (the NeuraCamp team) will be cheering you on every step of the way!"
   ]
  },
  {
   "cell_type": "markdown",
   "id": "bc8f8f00-1180-4e46-86f6-0b359615adb5",
   "metadata": {},
   "source": [
    "# Setting Up Your Python Environment 🛠️\n",
    "\n",
    "Alright, enough talk – let’s get your tools set up so you can start coding. For this course, you’ll primarily use **Python** and **Jupyter Notebook**, plus a few other essentials. Don’t worry if you’ve never installed software or used a terminal before; we'll walk you through it.\n",
    "\n",
    "Setting up your environment is kind of like prepping your kitchen before cooking: a bit of prep makes everything smoother and more enjoyable.\n",
    "\n",
    "---\n",
    "\n",
    "### • Python Installation:\n",
    "If you don’t have Python on your computer yet, the easiest way to get it (especially for data science) is to install **Anaconda Distribution**.\n",
    "\n",
    "Anaconda is a one-stop shop – it bundles:\n",
    "- Python itself\n",
    "- A ton of useful libraries and tools (including Jupyter Notebook)\n",
    "\n",
    "📦 Just go to the [Anaconda website](https://www.anaconda.com/products/distribution), download the latest Python 3.x version, and run the installer. It’ll handle the heavy lifting.\n",
    "\n",
    "> *(If you already have Python installed or prefer a leaner setup, you can install Jupyter separately by running `pip install notebook` or `pip install jupyterlab` in your terminal. But if that sentence sounded like gibberish, stick with Anaconda for now!)*\n",
    "\n",
    "---\n",
    "\n",
    "### • Jupyter Notebook:\n",
    "Once Python (and Jupyter) are installed, it’s time to launch your new playground.\n",
    "\n",
    "**Jupyter Notebook** is an interactive coding environment that runs in your web browser. Don’t let the “web” part confuse you – it’s all running on *your own computer*, just using the browser as an interface.\n",
    "\n",
    "To start Jupyter:\n",
    "1. Open your **Terminal** (or Command Prompt on Windows).\n",
    "2. Type:\n",
    "   ```bash\n",
    "   jupyter notebook\n",
    "   ```\n",
    "3. A browser window should open, showing the Jupyter interface.\n",
    "\n",
    "> It usually starts at a directory (folder) on your computer, and you can navigate or create notebooks from there.\n",
    "\n",
    "---\n",
    "\n",
    "### • Creating Your First Notebook:\n",
    "In the Jupyter interface:\n",
    "- Click the **New** button\n",
    "- Select **Python 3** (or similar)\n",
    "\n",
    "This opens a fresh notebook (usually named `Untitled.ipynb`).\n",
    "\n",
    "You’ll see a place to write code (a cell) and some menus at the top.\n",
    "\n",
    "🎉 **Congrats – you now have a working Jupyter Notebook ready to execute Python code!**\n",
    "\n",
    "> If you get stuck on any step (installation, launch, etc.), don’t panic. We’ve all been through tricky installs — it’s worth it once you're up and running.\n",
    "\n",
    "---\n",
    "\n",
    "# A Note on Terminal, Scripts, and Git\n",
    "\n",
    "As a budding programmer/data-scientist, you’ll also encounter a few more tools and concepts as you go.\n",
    "\n",
    "---\n",
    "\n",
    "### • Terminal:\n",
    "The terminal (aka command line) is a text-only interface to control your computer.\n",
    "\n",
    "It may feel old-school, but it’s:\n",
    "- Powerful\n",
    "- Fast\n",
    "- A **must-know** skill for developers and data scientists\n",
    "\n",
    "You’ll use it to:\n",
    "- Launch notebooks: `jupyter notebook`\n",
    "- Install packages: `pip install <package>`\n",
    "- Navigate folders: `cd foldername`\n",
    "\n",
    "**Windows:** Use Anaconda Prompt or PowerShell  \n",
    "**Mac/Linux:** Use the built-in Terminal app\n",
    "\n",
    "Think of it as a secret language you’ll get fluent in over time.\n",
    "\n",
    "---\n",
    "\n",
    "### • Scripts vs. Notebooks:\n",
    "We’ll use **Jupyter Notebooks** in this course — great for learning and documenting your code.\n",
    "\n",
    "But you may also hear about **Python scripts** — plain `.py` files.\n",
    "\n",
    "You run a script like this:\n",
    "```bash\n",
    "python myscript.py\n",
    "```\n",
    "\n",
    "Scripts are useful when:\n",
    "- Automating tasks\n",
    "- Finalizing deployable programs\n",
    "- Reusing code across projects\n",
    "\n",
    "For now, notebooks are home base 🏡 — we’ll gradually move to scripts as you grow.\n",
    "\n",
    "---\n",
    "\n",
    "### • Git:\n",
    "Ever wish you could undo file changes or collaborate without messy versions?\n",
    "\n",
    "**Git** is your savior. It’s a:\n",
    "- Version control system\n",
    "- Code history tracker\n",
    "- Collaboration tool\n",
    "\n",
    "Even if you’re solo, Git is a great habit.\n",
    "\n",
    "To check if it’s installed:\n",
    "```bash\n",
    "git --version\n",
    "```\n",
    "\n",
    "If not, download from [git-scm.com](https://git-scm.com/) and follow their setup guide.\n",
    "\n",
    "You’ll learn the basics as we go — enough to manage code like a pro. 💪\n",
    "\n",
    "---\n",
    "\n",
    "# Your First Python Code\n",
    "\n",
    "Enough setup talk – let’s write some code! It's time to make sure your environment is working and get a taste of Python.\n",
    "\n",
    "A time-honored tradition in programming is to start with a **\"Hello, World!\"** example, which simply prints out that friendly greeting. It may sound trivial, but getting this to work means you've successfully set up Python and Jupyter. Plus, it's oddly satisfying to see the computer do something *you* told it to do.\n",
    "\n",
    "So let’s do it.\n",
    "\n",
    "---\n",
    "\n",
    "### Step-by-Step:\n",
    "1. **Open your new Jupyter Notebook**  \n",
    "   (or if you closed it, launch it again via:\n",
    "\n",
    "   ```bash\n",
    "   jupyter notebook\n",
    "   ```\n",
    "\n",
    "2. In the first cell of the notebook, type this code:\n",
    "\n",
    "   ```python\n",
    "   print(\"Hello, World!\")\n",
    "   ```\n",
    "\n",
    "3. **Run the cell** by:\n",
    "   - Clicking the “Run” button in the toolbar (▶️)\n",
    "   - Or pressing `Shift + Enter`\n",
    "\n",
    "If everything is set up correctly, your notebook should output:\n",
    "\n",
    "```\n",
    "Hello, World!\n",
    "```\n",
    "\n",
    "---\n",
    "\n",
    "### What just happened?\n",
    "- `print()` is a Python function that tells the computer to display whatever is inside the parentheses.\n",
    "- `\"Hello, World!\"` is a string of text, so Python printed it below your code cell.\n",
    "\n",
    "> 🎉 This confirms your Python + Jupyter environment is working!\n",
    "\n",
    "---\n",
    "\n",
    "### Why it matters:\n",
    "This little win marks the beginning of your data science journey.\n",
    "\n",
    "It may just be three words today, but soon you’ll:\n",
    "- Clean and analyze large datasets\n",
    "- Build visualizations\n",
    "- Train models\n",
    "- Write powerful, reusable scripts\n",
    "\n",
    "And it all begins with:\n",
    "```python\n",
    "print(\"Hello, World!\")\n",
    "```\n",
    "\n",
    "---\n",
    "\n",
    "Take a moment to appreciate this:  \n",
    "**You just wrote a program in Python!**  \n",
    "It might be the simplest program possible, but it’s a *real* one. So give yourself a small celebration — you earned it.\n",
    "\n",
    "Now let’s build on it, step by step. 🚀"
   ]
  },
  {
   "cell_type": "markdown",
   "id": "73aec8c7-c2c0-4729-b30a-bbc7835a4644",
   "metadata": {},
   "source": [
    "# Lesson Summary & Cheat Sheet\n",
    "\n",
    "That was a lot of information, so let's **summarize** the key points from this welcome lesson. Think of this as your quick-reference cheat sheet for Lesson 1:\n",
    "\n",
    "---\n",
    "\n",
    "### • Python & Data Science are a Perfect Match:\n",
    "Python is a beginner-friendly yet powerful programming language widely used in data science. Companies love it because it can do everything from data cleaning to building AI models. In short, Python is the *go-to tool* to get data science work done efficiently. If you learn it well, you become instantly more valuable in the job market.\n",
    "\n",
    "---\n",
    "\n",
    "### • Data Science = Turning Data into Insights:\n",
    "It's all about extracting meaning from data to solve problems or make decisions. Companies care because these insights can save money, boost profits, or create new opportunities. As a data scientist, you’ll play detective with data – a skill that’s in high demand.\n",
    "\n",
    "---\n",
    "\n",
    "### • Course Structure:\n",
    "This course will guide you through **Beginner, Intermediate, and Advanced** levels.\n",
    "\n",
    "- **Beginner module**: You’ll learn Python basics (variables, data types, lists, dictionaries, etc.), and by the end of it you’ll be handling real datasets with Pandas.\n",
    "- **Intermediate module**: Builds up your data analysis and visualization skills, and introduces machine learning fundamentals.\n",
    "- **Advanced module**: Covers deeper machine learning, big data tools, and a bit of AI.\n",
    "\n",
    "Each step has hands-on exercises and real-world inspired problems to solve.\n",
    "\n",
    "---\n",
    "\n",
    "### • Setup Recap:\n",
    "You installed Python (hopefully via Anaconda for convenience) and **launched a Jupyter Notebook**.\n",
    "\n",
    "To start Jupyter, use the terminal and run:\n",
    "```bash\n",
    "jupyter notebook\n",
    "```\n",
    "\n",
    "In Jupyter, you create a new notebook and write code in cells.  \n",
    "We also introduced the **Terminal** and **Git** as powerful tools you'll grow comfortable with.\n",
    "\n",
    "---\n",
    "\n",
    "### • Your First Code:\n",
    "You wrote and executed:\n",
    "```python\n",
    "print(\"Hello, World!\")\n",
    "```\n",
    "in a notebook. This verified that your environment is working.\n",
    "\n",
    "The `print()` function is a basic way to output information and is great for testing and displaying quick results. Executing a cell with `Shift + Enter` runs the code and shows output instantly.\n",
    "\n",
    "---\n",
    "\n",
    "### • Cheat Sheet - Basic Commands:\n",
    "\n",
    "- **To run a cell in Jupyter**: click the cell and press `Shift + Enter` (or use the Run ▶️ button)\n",
    "- **To print output in Python**: use `print(your_message)`\n",
    "- **To open the terminal**:\n",
    "    - **Windows**: Anaconda Prompt / PowerShell\n",
    "    - **Mac**: Terminal app\n",
    "    - **Linux**: Terminal\n",
    "\n",
    "- **To launch Jupyter**: type `jupyter notebook`\n",
    "    - Press `Ctrl+C` in the terminal to stop the server\n",
    "\n",
    "- **To check Python install**:\n",
    "    ```bash\n",
    "    python --version\n",
    "    ```\n",
    "\n",
    "- **To check pip install**:\n",
    "    ```bash\n",
    "    pip --version\n",
    "    ```\n",
    "\n",
    "- **To verify Git install**:\n",
    "    ```bash\n",
    "    git --version\n",
    "    ```\n",
    "\n",
    "---\n",
    "\n",
    "## • Troubleshooting Tips:\n",
    "If \"Hello, World!\" didn’t work, or you hit an error launching Jupyter, double-check that Python/Anaconda is installed correctly. Make sure you’re running the command in the right place (e.g., the Anaconda Prompt on Windows). Error messages might look scary, but they often hint at the problem. And remember, Google (or our community forum) is your friend – whatever issue you run into, chances are someone else has had the same problem and posted a solution online. Don’t hesitate to search for help.\n",
    "\n",
    "---\n",
    "\n",
    "That wraps up the first lesson!  \n",
    "You’ve learned why Python and data science are worth your time, how they're used in the real world by companies, what exciting things lie ahead in this course, and you set up your environment and ran your first Python code. Take a moment to celebrate that progress.\n",
    "\n",
    "In the next lesson, we’ll start digging into Python fundamentals (you'll discover how to use Python as a calculator, among other things).  \n",
    "**Tip:** Between lessons, try tinkering a bit more in your Jupyter Notebook – maybe change the message in the `print()` or create another cell and do simple math like `5 + 3`. Getting comfortable with the interface now will make the upcoming lessons even easier.\n",
    "\n",
    "---\n",
    "\n",
    "**Welcome once again to the world of Data Science with Python – let’s have some fun and learn a ton!**"
   ]
  },
  {
   "cell_type": "markdown",
   "id": "c0479386-5155-4660-8f5c-bac43b33f6cf",
   "metadata": {},
   "source": [
    "## Python: Your Overqualified Calculator\n",
    "\n",
    "Before we conquer data science case studies, let's see Python do what it was originally **born** to do: math! Think of it as a super-calculator that can also eventually send rockets to Mars (thanks, SpaceX engineers), but one step at a time…\n",
    "\n",
    "In a Jupyter Notebook code cell (or an interactive Python shell), you can perform arithmetic just like on a calculator 💡. No, seriously – type an equation and Python gives you the result. For example:"
   ]
  },
  {
   "cell_type": "code",
   "execution_count": 6,
   "id": "4d6e9d2d-cbbf-472f-8d1f-923432486743",
   "metadata": {},
   "outputs": [
    {
     "data": {
      "text/plain": [
       "4"
      ]
     },
     "execution_count": 6,
     "metadata": {},
     "output_type": "execute_result"
    }
   ],
   "source": [
    "# Let's do some basic math\n",
    "2 + 2"
   ]
  },
  {
   "cell_type": "markdown",
   "id": "c85ebcbd-e667-4dcf-8c08-685a0ae5ebdb",
   "metadata": {},
   "source": [
    "Run that, and you'll get output `4`. Thrilling, right? Python supports the usual suspects:\n",
    "- `+` (addition)\n",
    "- `-` (subtraction)\n",
    "- `*` (multiplication)\n",
    "- `/` (division)\n",
    "\n",
    "It also respects order of operations (PEMDAS, anyone?). So `2 + 3 * 4` will give `14`, not `20`, because multiplication happens before addition. Use parentheses `( ... )` if you want to force a different order. For instance, `(2 + 3) * 4` gives `20` – straightforward enough 🧠.\n",
    "\n",
    "One neat quirk: the division operator `/` **always** gives a float (decimal number) in Python, even if the result is a whole number `3`. Try this:"
   ]
  },
  {
   "cell_type": "code",
   "execution_count": 8,
   "id": "b2ea852d-590a-44ca-83e5-b33b8d0a996a",
   "metadata": {},
   "outputs": [
    {
     "data": {
      "text/plain": [
       "2.0"
      ]
     },
     "execution_count": 8,
     "metadata": {},
     "output_type": "execute_result"
    }
   ],
   "source": [
    "8 / 4"
   ]
  },
  {
   "cell_type": "markdown",
   "id": "05697c73-63ed-4b53-b95b-0be3cfc3b496",
   "metadata": {},
   "source": [
    "Instead of `2`, you'll get `2.0`. Python is telling you \"hey, this result might have been fractional, so here's a float for consistency.\" Good to know, especially when you're dividing things like Netflix watch hours or revenue, where fractional results make sense.\n",
    "\n",
    "And yes, Python can handle more than basic ops:\n",
    "- `//` for floor division (chopping off the decimal, e.g. `5 // 2` gives `2`)\n",
    "- `%` for modulus (remainder, so `5 % 2` gives `1`)\n",
    "- `**` for exponent (power, so `2 ** 3` gives `8`)\n",
    "\n",
    "Feel free to play with these in a code cell – Python won't mind. It's basically a gym for your brain's math muscles."
   ]
  },
  {
   "cell_type": "markdown",
   "id": "f9d0d10c-c99d-4489-9604-c185834e8707",
   "metadata": {},
   "source": [
    "## Comments: Your Code's Post-It Notes\n",
    "\n",
    "Ever jot down a note on a sticky note and slap it on a document for future-you to read? That's what **comments** are in code. They are completely ignored by Python, but incredibly useful for humans (like your future self, or the poor soul inheriting your code at Amazon).\n",
    "\n",
    "In Python, anything after a `#` symbol is a comment:"
   ]
  },
  {
   "cell_type": "code",
   "execution_count": 9,
   "id": "e744284a-4511-41ad-8e4f-11311b6eb8ac",
   "metadata": {},
   "outputs": [
    {
     "name": "stdout",
     "output_type": "stream",
     "text": [
      "Hello there!\n"
     ]
    }
   ],
   "source": [
    "# This is a comment. Python will happily ignore it when running the code.\n",
    "print(\"Hello there!\")  # This prints a greeting to the screen\n",
    "# print(\"This line won't run because it's commented out.\")"
   ]
  },
  {
   "cell_type": "markdown",
   "id": "cc695817-07aa-4edb-9db2-a4f29bf8319e",
   "metadata": {},
   "source": [
    "---\n",
    "When you run this cell, it will output `Hello there!` and nothing more. The lines starting with `#` are not executed – they're just notes.\n",
    "\n",
    "Use comments to explain *why* you're doing something, or to disable code without deleting it. For example, if you have a super complex calculation that you need to temporarily turn off, just slap a `#` in front of it. Future-you will thank present-you for any helpful breadcrumb left in comments. As a budding data scientist, writing clear comments can set you apart – it shows you can communicate your thought process (a skill much appreciated in team environments).\n",
    "\n",
    "_Pro tip_: Keep comments concise and relevant. No need to write an essay – just clarify the non-obvious.  \n",
    "And please, **no \"joke\" comments that might get you side-eye from a code reviewer**. Save your wit for conversation, not production code (lesson materials excluded, of course)."
   ]
  },
  {
   "cell_type": "markdown",
   "id": "36a70fa1-7997-4165-84d2-57a02c166d29",
   "metadata": {},
   "source": [
    "\n",
    "## Variables: Data Containers for Everything\n",
    "\n",
    "Imagine working at Netflix and having to repeatedly type the number of subscribers (say, 23,000,000) all over your analysis code. Sounds error-prone and tedious, right? Instead, we use **variables** to store such values with a descriptive name, so we (and Python) can reuse them easily.\n",
    "\n",
    "A variable is basically a label for a piece of data. In Python, you create (or **assign**) a variable using the `=` sign `5`. For example:"
   ]
  },
  {
   "cell_type": "code",
   "execution_count": 10,
   "id": "1a230681-1626-4340-a72a-4bbf898f9ae2",
   "metadata": {},
   "outputs": [
    {
     "name": "stdout",
     "output_type": "stream",
     "text": [
      "298770000.0\n"
     ]
    }
   ],
   "source": [
    "# Netflix scenario: calculate monthly revenue from subscribers\n",
    "subscriber_count = 23_000_000    # number of subscribers (an integer)\n",
    "price_per_user   = 12.99         # monthly price in dollars (a float)\n",
    "monthly_revenue  = subscriber_count * price_per_user\n",
    "print(monthly_revenue)"
   ]
  },
  {
   "cell_type": "markdown",
   "id": "a046adfe-98b9-4313-be9e-61acb15fe8c7",
   "metadata": {},
   "source": [
    "---\n",
    "When you run this, Python will dutifully multiply 23,000,000 by 12.99 and spit out the result (which is a big number, roughly 298 million). We just stored data in variables and used them in a calculation – congrats, you’re automating work like a pro. No abacus needed.\n",
    "\n",
    "A few things to note about variables:\n",
    "- **Naming**: Use meaningful names. `subscriber_count` is way better than `x` or `var1`. However, the name can't start with a number or contain spaces. Stick to letters, numbers, and underscores `_` (and no, `price-per-user` won't work – Python will think you're trying to subtract something). Also, variables are case-sensitive: `Revenue` and `revenue` would be different.\n",
    "- **Dynamic Typing**: Python doesn’t require you to declare a type for a variable. It figures it out at runtime. In our example, it knows `subscriber_count` is an int and `price_per_user` is a float based on the value assigned. If later you do `subscriber_count = \"twenty three million\"`, Python will happily change the type to string – _but please don’t do that in sensible code!_ Keep types consistent unless you have a good reason to change them.\n",
    "- **Using Variables**: Once assigned, you can use the variable name instead of the value it holds. Python will substitute it behind the scenes. If you try to use a variable that hasn’t been assigned yet, you’ll get a not-so-friendly `NameError` `6`. So, always assign first, then use.\n",
    "\n",
    "Think of variables as sticky notes holding data. You can stick them on all sorts of data types (numbers, text, etc., which we'll cover next). Just make sure your sticky note labels (variable names) make sense for what's on them."
   ]
  },
  {
   "cell_type": "markdown",
   "id": "c48b1f77-35c5-4606-8cc3-523f13016fd5",
   "metadata": {},
   "source": [
    "## Integers and Floats in Action\n",
    "\n",
    "Say you're at **Apple** analyzing iPhone sales:"
   ]
  },
  {
   "cell_type": "code",
   "execution_count": 11,
   "id": "d1aea9fc-26b2-4a7d-a22b-4ccd646c052b",
   "metadata": {},
   "outputs": [
    {
     "name": "stdout",
     "output_type": "stream",
     "text": [
      "4999950000.0\n"
     ]
    }
   ],
   "source": [
    "# Apple scenario: Calculate revenue from iPhones sold\n",
    "num_iphones_sold = 5_000_000    # 5 million iPhones sold (int)\n",
    "price_per_iphone = 999.99       # price in USD (float)\n",
    "total_revenue = num_iphones_sold * price_per_iphone\n",
    "print(total_revenue)"
   ]
  },
  {
   "cell_type": "markdown",
   "id": "62e545d3-1c2d-4f83-8708-21ba432cca9e",
   "metadata": {},
   "source": [
    "---\n",
    "This will output a large number (in the billions). Here, `num_iphones_sold` is an integer (no decimals for count of items), and `price_per_iphone` is a float (money often isn't a whole number). Python multiplies an int by a float and gives a float result. As mentioned, whenever you mix ints and floats, the int is converted to float behind the scenes `7`. The result `total_revenue` is a float.\n",
    "\n",
    "Now, imagine **Google** budgeting for an ad campaign:"
   ]
  },
  {
   "cell_type": "code",
   "execution_count": 12,
   "id": "f45c82d5-3cfe-4625-b93b-499affb812f8",
   "metadata": {},
   "outputs": [
    {
     "name": "stdout",
     "output_type": "stream",
     "text": [
      "250000.0\n"
     ]
    }
   ],
   "source": [
    "google_ads_budget = 1_000_000.0   # 1 million dollars, underscores for readability\n",
    "num_channels = 4\n",
    "budget_per_channel = google_ads_budget / num_channels\n",
    "print(budget_per_channel)"
   ]
  },
  {
   "cell_type": "markdown",
   "id": "239f791d-6937-4eb5-920b-11c9087cc22e",
   "metadata": {},
   "source": [
    "---\n",
    "We used a float for the total budget and an int for number of channels. The output will be `250000.0` (a float). Notice we wrote `1_000_000.0` with underscores – that's just Python syntax sugar to make big numbers easier to read (Python ignores the underscores when interpreting the number). We got a float result because, again, float divided by int yields float. No surprise there.\n",
    "\n",
    "**Key takeaway**: Use `int` when you need whole numbers, `float` when you need decimals. And be mindful of the type – if you treat a float like an int or vice versa accidentally, you might get weird results or errors. (E.g., using floats where you expect perfect precision can bite you due to rounding issues – a topic for later, but keep it in mind.)\n",
    "\n",
    "\n",
    "## Strings in Action\n",
    "\n",
    "Now let's switch gears to strings. Suppose you're a data analyst at **Meta (Facebook)** working on a welcome message for new users:"
   ]
  },
  {
   "cell_type": "code",
   "execution_count": 13,
   "id": "a99a2419-1d50-4678-bdbb-9b7886071edf",
   "metadata": {},
   "outputs": [
    {
     "name": "stdout",
     "output_type": "stream",
     "text": [
      "Welcome to the platform, Zuckerberg!\n"
     ]
    }
   ],
   "source": [
    "user_name = \"Zuckerberg\"  # just kidding, we're all new users at some point\n",
    "welcome_message = \"Welcome to the platform, \" + user_name + \"!\"\n",
    "print(welcome_message)"
   ]
  },
  {
   "cell_type": "markdown",
   "id": "ed6f217e-5da1-48bd-9bdf-f26e39612d06",
   "metadata": {},
   "source": [
    "---\n",
    "When you run this, you'll get `Welcome to the platform, Zuckerberg!`. Here we concatenated (glued together) strings using the `+` operator. Python happily joins the text pieces into one because they were all strings.\n",
    "\n",
    "A few string insights:\n",
    "- You can use either single quotes `'...'` or double quotes `\"...\"` to define a string in Python `9`. Just be consistent and make sure they match. For example, `\"Hello\"` and `'Hello'` are both the same string.\n",
    "- If you need quotes inside your string, use the opposite quote to avoid confusion or escape them with a backslash. (E.g., `\"She said 'hi'\"` or `'She said \"hi\"'` both work.)\n",
    "- Strings aren't for math. Attempting `user_name + 5` will throw a TypeError faster than you can say \"oops\".\n",
    "\n",
    "You can only concatenate strings with strings. If you have a number that you want to stick in a string, you have to convert it to a string first (using the `str()` function), or use fancy techniques like f-strings (we'll get there). For instance, `str(5)` gives `\"5\"`, so `\"User\" + str(5)` would be `\"User5\"`. Just remember: **no mixing types in plain `+` operations** – it's either math with numbers or concatenation with strings.\n",
    "\n",
    "One more thing: if you put a number in quotes, it's a string, not a number. `\"123\" + \"456\"` will give you `\"123456\"` (concatenation) not `579`. This might seem obvious now, but it's a common beginner mistake when dealing with things like reading input. Python isn't going to assume you meant numeric addition if you gave it strings."
   ]
  },
  {
   "cell_type": "markdown",
   "id": "82e6b8e4-5038-4c64-a2c3-7fcde115626e",
   "metadata": {},
   "source": [
    "## In-Notebook Practice: Try It Yourself\n",
    "\n",
    "Throughout this lesson, we've sprinkled code examples. If you haven't already, go ahead and run them in your Jupyter Notebook. Change the values, break things (intentionally) to see what errors pop up, and make sure you understand *why*.\n",
    "\n",
    "For instance, try these mini-experiments:"
   ]
  },
  {
   "cell_type": "code",
   "execution_count": 14,
   "id": "d0d06584-f701-4aba-83d1-d43f3d989794",
   "metadata": {},
   "outputs": [
    {
     "name": "stdout",
     "output_type": "stream",
     "text": [
      "23\n"
     ]
    }
   ],
   "source": [
    "# Experiment 1: What happens if we treat numbers as strings?\n",
    "print(\"2\" + \"3\")    # Expect \"23\" as strings will concatenate\n",
    "# print(2 + \"3\")     # Uncomment this line to see a TypeError"
   ]
  },
  {
   "cell_type": "code",
   "execution_count": 15,
   "id": "de69fdf7-3e01-4683-879b-d2b30207c943",
   "metadata": {},
   "outputs": [
    {
     "name": "stdout",
     "output_type": "stream",
     "text": [
      "1.6\n",
      "1\n",
      "3\n"
     ]
    }
   ],
   "source": [
    "# Experiment 2: Division quirks\n",
    "print(8 / 5)    # Should be 1.6 (float division)\n",
    "print(8 // 5)   # Floor division, should be 1 (int result)\n",
    "print(8 % 5)    # Modulus, should be 3 (remainder of 8/5)"
   ]
  },
  {
   "cell_type": "markdown",
   "id": "306ecaca-715a-4ea1-a231-6e9eb4c0d971",
   "metadata": {},
   "source": [
    "---\n",
    "Try messing around: change `8` to other numbers, try adding an integer to a float, etc. The best way to learn is by doing — and the stakes here are low. No one gets paged at 2 AM if you divide by zero in your notebook (though you'll get an error for that, obviously).\n",
    "\n",
    "By now, you should feel more comfortable with Python acting as a basic calculator, using comments to annotate code, storing values in variables, and recognizing ints, floats, and strings. These might seem like *baby steps*, but even senior data scientists rely on these fundamentals daily. Master this, and you've earned the right to tackle bigger fish."
   ]
  },
  {
   "cell_type": "markdown",
   "id": "535ae500-bcc5-4c14-b688-2b0e764aee96",
   "metadata": {},
   "source": [
    "# Assessments\n",
    "\n",
    "Time to test your understanding with some hands-on tasks and questions. Remember, this is all about being *job-ready*, so these are inspired by things you might actually do or be asked in a data role.\n",
    "\n",
    "## Coding Challenges\n",
    "\n",
    "1. **Revenue Calculator**: You're working at **Netflix** (woohoo!). The company has 1,000,000 users, each paying $15.99 per month. Using Python variables, calculate the total monthly revenue and print it out.\n",
    "_Hint_: You'll need two variables (for user count and price), and one for the result.\n",
    "\n",
    "2. **Budget Split**: **Google** allocated a budget of $2,500,000 for cloud infrastructure this quarter. If they plan to split this evenly across 5 teams, how much does each team get? Write code to compute and display the result. (Use variables for each value, of course.)\n",
    "\n",
    "3. **String Genie**: At **Amazon**, an analyst is preparing a product launch email. They have a `product_name = \"Echo Dot\"` and need to create a message that says `\"The new Echo Dot is available now!\"`. Use string concatenation (or any other method you know) to form this message in Python and print it.\n",
    "_Bonus_: *If you know about f-strings from curiosity or another course, you can use that, but concatenation with `+` or multiple prints is fine too.*\n",
    "\n",
    "## Multiple Choice Questions\n",
    "\n",
    "1. At **Apple**, you’re tracking the price of a new iPhone model. It costs $999.99. What data type is best for this price variable?\n",
    "    A. `int`  \n",
    "    B. `float`  \n",
    "    C. `str`  \n",
    "    D. `bool`\n",
    "\n",
    "2. Which of the following is **NOT** a valid Python variable name?\n",
    "    A. `employee_count`  \n",
    "    B. `SalesQ1`  \n",
    "    C. `3rd_quarter_revenue`  \n",
    "    D. `totalRevenue`\n",
    "\n",
    "_(Questions 4–5 explore your understanding of data types and basic syntax in realistic scenarios. Think carefully about how Python treats each case before you answer.)_"
   ]
  },
  {
   "cell_type": "markdown",
   "id": "583a832e-dd44-4824-bacd-47b328f7d1fe",
   "metadata": {},
   "source": [
    "# Summary and Cheat Sheet\n",
    "\n",
    "Congrats on making it through Lesson 2 with your sanity (hopefully) intact. We've covered a lot of ground, and you’re now equipped to use Python as a calculator, add helpful comments, wrangle variables, and distinguish core data types. Boring? Maybe a little. But this is the bedrock of all Python programming – *every* script, data analysis, or machine learning model builds on these concepts. The upside: you're inching closer to that dream job at Facebook, Apple, or whichever big-name tech giant gives you goosebumps.\n",
    "\n",
    "Here's a quick recap (**cheat sheet**) of the essentials from this lesson:\n",
    "\n",
    "- **Basic Arithmetic in Python**: `+`, `-`, `*`, `/` for add, subtract, multiply, divide. Use `()` to group operations. `//` for floor division, `%` for remainder, `**` for powers. Remember, `/` always gives a float.\n",
    "- **Comments**: Use `#` to start a comment. Python ignores everything after `#` on that line. Use comments to clarify code or prevent execution of code snippets during testing.\n",
    "- **Variables**: Assign with `name = value`. Once assigned, you can use `name` in place of the value. Choose descriptive names and follow naming rules (start with letter/underscore, no spaces or special chars except `_`). Python is dynamically typed, so it infers the type from the value.\n",
    "- **Integers** (`int`): Whole numbers (e.g., -10, 0, 42). Use for counts, indices, etc.\n",
    "- **Floats** (`float`): Decimal numbers (e.g., 3.14, 2.0). Use for measurements, currency, or any fractional values. Mixing int and float in operations results in float.\n",
    "- **Strings** (`str`): Text enclosed in quotes, single or double. Use for names, labels, or any non-numeric data. You can concatenate strings with `+`. But you can't add strings and numbers without conversion (that leads to a TypeError).\n",
    "\n",
    "Keep this cheat sheet handy. As trivial as these basics might seem, they will become second nature with practice – which is exactly what you should do now. Play around with code, tackle the assessments, and don't worry if you make mistakes. Even senior devs Google \"Python string concatenate int\" sometimes (we won’t tell 😉).\n",
    "\n",
    "In the next lesson, we’ll build on this foundation and start making Python do *actual* data science-y things. Until then, happy coding, and remember: **every expert was once a beginner.** That beginner just learned the basics really well."
   ]
  },
  {
   "cell_type": "markdown",
   "id": "1af19822-0405-4fd7-9e16-978f1a16137e",
   "metadata": {},
   "source": [
    "---"
   ]
  },
  {
   "cell_type": "markdown",
   "id": "b31b73d6-fcee-4d87-b470-8516fa6a005d",
   "metadata": {},
   "source": [
    "# Lesson 3: Working with Text\n",
    "\n",
    "So far, we've seen Python handle numbers like a math whiz, but data isn't just about digits. A lot of the world runs on text – names, product descriptions, user comments, you name it. In this lesson, we'll teach Python to become a wordsmith. Get ready to **work with text** using Python's strings (and no, we don't mean guitar strings 🎸 we mean text data). By the end of this lesson, you'll know how to manipulate strings, format them cleanly (hello, f-strings!), and use some handy text tricks that will make you feel like the Shakespeare of code.\n",
    "\n",
    "Why should you care? Because text data is everywhere. From cleaning up a messy email list to parsing social media hashtags, being good with strings is *essential* for a data pro. Plus, once you master this, you'll be able to create neat output like personalized messages and formatted reports, which is way cooler than just printing numbers all day.\n",
    "\n",
    "Sound good? Great – let's dive into the world of Python strings!"
   ]
  },
  {
   "cell_type": "markdown",
   "id": "95719e94-37fe-45b9-a5e6-cc698faf0ba1",
   "metadata": {},
   "source": [
    "## Strings: More Than Just Text\n",
    "\n",
    "In Python (and programming in general), a **string** is simply a sequence of characters. You can think of it as text, whether it's a single letter, a word, or a whole paragraph. In Lesson 2, we briefly played with strings when we did things like `\"Hello\" + \"World\"`. Now we'll go deeper.\n",
    "\n",
    "Why are strings important for data science? Imagine the data you might work with:\n",
    "\n",
    "- User feedback comments\n",
    "- Names of cities or products\n",
    "- Dates and addresses\n",
    "- Even DNA sequences (which are basically really long strings!)\n",
    "\n",
    "Not everything is a neat number. Often, you need to wrangle text: clean it, combine it, or pull information out of it. Python's got your back here. It's *really* good at string manipulation (some say Python is almost as good with words as it is with numbers).\n",
    "\n",
    "One quick cool fact: Python strings can handle **Unicode**, which means you can work with text in any language (and even emojis) without breaking a sweat. Want to print a smiley face? Python can do `print(\"😊\")` just fine. In a global data science project, that matters. But let's start with the basics before we send emoji rockets to space 🚀."
   ]
  },
  {
   "cell_type": "markdown",
   "id": "e2c840b2-795e-4a1c-a5be-ffa60861ac83",
   "metadata": {},
   "source": [
    "## Combining Text and Variables (Concatenation & f-Strings)\n",
    "Say you're working at a startup and you want to send a custom welcome message to each new user. You have their name in a variable, and you need to include it in a greeting string. This is where combining text and variables comes in.\n",
    "**Concatenation** is a fancy word for sticking strings together. In Python, you can concatenate with the `+` operator. For example:"
   ]
  },
  {
   "cell_type": "code",
   "execution_count": 4,
   "id": "f37247b9-f6e2-4c0f-a286-4ca14a049873",
   "metadata": {},
   "outputs": [
    {
     "name": "stdout",
     "output_type": "stream",
     "text": [
      "Welcome, Ada Lovelace!\n"
     ]
    }
   ],
   "source": [
    "first_name = \"Ada\"\n",
    "last_name = \"Lovelace\"\n",
    "full_name = first_name + \" \" + last_name\n",
    "print(\"Welcome, \" + full_name + \"!\")"
   ]
  },
  {
   "cell_type": "markdown",
   "id": "2b0a3777-4b4d-4c60-a466-a77a3631d3af",
   "metadata": {},
   "source": [
    "---\n",
    "**Output:**\n",
    "```text\n",
    "Welcome, Ada Lovelace!\n",
    "```\n",
    "Here we took `first_name` and `last_name`, added a space in between, and combined them. Easy enough, right? 🎯  \n",
    "But what if we want to include something that’s not a string, like a number? Suppose we have an `user = \"Alex\"` and they have `messages = 5` new notifications. If we try concatenation directly:"
   ]
  },
  {
   "cell_type": "code",
   "execution_count": 8,
   "id": "9de1fa7f-9578-45a0-a16e-cd609fb3edc4",
   "metadata": {},
   "outputs": [],
   "source": [
    "user = \"Alex\"\n",
    "messages = 5\n",
    "# print(\"Hello, \" + user + \"! You have \" + messages + \" new messages.\")  # <-- gonna error out"
   ]
  },
  {
   "cell_type": "markdown",
   "id": "153672ad-8a35-472f-90d0-e98bd89789bb",
   "metadata": {},
   "source": [
    "This will error out with a `TypeError`. Python will yell at you because you're trying to add a string and an integer. It's like trying to glue a piece of paper to a number 5 – it just doesn't know how to do that.  \n",
    "**Fix #1:** Convert the number to a string using `str()`:"
   ]
  },
  {
   "cell_type": "code",
   "execution_count": 9,
   "id": "e5a49415-28d9-4402-b242-99c4880e6094",
   "metadata": {},
   "outputs": [
    {
     "name": "stdout",
     "output_type": "stream",
     "text": [
      "Hello, Alex! You have 5 new messages.\n"
     ]
    }
   ],
   "source": [
    "print(\"Hello, \" + user + \"! You have \" + str(messages) + \" new messages.\")"
   ]
  },
  {
   "cell_type": "markdown",
   "id": "47e16e7a-6df4-4814-be42-1e91b8677fd4",
   "metadata": {},
   "source": [
    "---\n",
    "That works! But let’s be honest, it looks a bit clunky with all those plus signs and `str()` calls.  \n",
    "**Fix #2 (better):** Use an f-string. 🎉  \n",
    "F-strings are one of Python's coolest features for making your strings dynamic and readable. An f-string is just a normal string with an `f` in front, and you can put variables or even expressions inside curly braces `{}` to plug their values in:"
   ]
  },
  {
   "cell_type": "code",
   "execution_count": 10,
   "id": "e96aac3c-91e4-4fa5-8387-2b61931dd03a",
   "metadata": {},
   "outputs": [
    {
     "name": "stdout",
     "output_type": "stream",
     "text": [
      "Hello, Alex! You have 5 new messages.\n"
     ]
    }
   ],
   "source": [
    "print(f\"Hello, {user}! You have {messages} new messages.\")"
   ]
  },
  {
   "cell_type": "markdown",
   "id": "459a2119-c6a3-48be-9cc8-5ea409b96675",
   "metadata": {},
   "source": [
    "---\n",
    "**Output:**\n",
    "```text\n",
    "Hello, Alex! You have 5 new messages.\n",
    "```"
   ]
  },
  {
   "cell_type": "markdown",
   "id": "b9b724c4-448d-4d61-ad6c-2721247a6b2f",
   "metadata": {},
   "source": [
    "No fuss, no muss. Python sees the `f` and knows to replace `{user}` with the value of the `user` variable, and `{messages}` with the value of `messages`. You can even do math or function calls inside the `{}` if you want (like `{messages + 1}` would show `6` in this case). F-strings are not only cleaner, they're also faster and less error-prone than doing a bunch of concatenations. 🎯  \n",
    "A quick note: f-strings are available in Python 3.6 and above (which you almost certainly have nowadays). Before f-strings, people used the `.format()` method or the `%` operator for string formatting. You might see those in older code or StackOverflow answers, but we'll stick to f-strings here because they're the newest and easiest way. (If someone in an interview asks, you can mention all three methods – that'll earn you a 👏 for knowing your stuff.)\n",
    "\n",
    "One more example to drive it home:  \n",
    "Imagine you're analyzing sales at Amazon. You have a `product = \"Echo Dot\"` and `quantity_sold = 12000`. You want to report, \"We sold 12000 Echo Dot units.\" Using an f-string:"
   ]
  },
  {
   "cell_type": "code",
   "execution_count": 11,
   "id": "3140c359-de92-4e8d-9866-0bdc18584870",
   "metadata": {},
   "outputs": [
    {
     "name": "stdout",
     "output_type": "stream",
     "text": [
      "We sold 12000 Echo Dot units.\n"
     ]
    }
   ],
   "source": [
    "product = \"Echo Dot\"\n",
    "quantity_sold = 12000\n",
    "print(f\"We sold {quantity_sold} {product} units.\")"
   ]
  },
  {
   "cell_type": "markdown",
   "id": "972b7b8e-9295-4e73-a76c-b1b432e88809",
   "metadata": {},
   "source": [
    "**Output:**\n",
    "```text\n",
    "We sold 12000 Echo Dot units.\n",
    "```\n",
    "See how painless that was? No need to worry about converting `quantity_sold` to a string – the f-string handled it.  \n",
    "**Key takeaway:** for mixing text with numbers or variables, f-strings are your new best friend."
   ]
  },
  {
   "cell_type": "markdown",
   "id": "cc3a3035-227c-4a51-bfc7-c03d470b2658",
   "metadata": {},
   "source": [
    "## Useful String Methods (Changing Case, Stripping, and More)\n",
    "Now that you can build strings that include variable values, let's look at how to manipulate string content itself. Python strings come with a bunch of built-in functions called **methods** that make common text-processing tasks easy.  \n",
    "Think of string methods as power-ups for your text. Here are some you'll use a lot:\n",
    "\n",
    "- **Change case**: Want to shout in all caps or whisper in lowercase? Use:  \n",
    "  - `upper()` – returns an uppercase version of the string.  \n",
    "  - `lower()` – returns a lowercase version.  \n",
    "  - `title()` – capitalizes the first letter of each word (useful for names, etc.).\n",
    "\n",
    "Example:  "
   ]
  },
  {
   "cell_type": "code",
   "execution_count": 12,
   "id": "0ecfd05f-3d93-4222-a986-73a05646863d",
   "metadata": {},
   "outputs": [
    {
     "name": "stdout",
     "output_type": "stream",
     "text": [
      "NEURACAMP\n",
      "neuracamp\n",
      "Data Science\n"
     ]
    }
   ],
   "source": [
    "company = \"NeuraCamp\"\n",
    "print(company.upper())   # \"NEURACAMP\"\n",
    "print(company.lower())   # \"neuracamp\"\n",
    "print(\"data science\".title())  # \"Data Science\""
   ]
  },
  {
   "cell_type": "markdown",
   "id": "363c55ef-0881-49f6-a011-0fad2d68d321",
   "metadata": {},
   "source": [
    "🧠 These methods don’t change the original string; they just return a new modified string. (We'll explain why in a bit.)\n",
    "\n",
    "- **Strip whitespace**: Ever get data with random spaces or newlines at the edges? `\" hello \\n\"` with spaces or newline around it, for instance. `strip()` is your janitor:  \n",
    "  - `strip()` – removes any whitespace (spaces, tabs, newlines) from the beginning **and** end of a string.  \n",
    "  - `rstrip()` – removes whitespace on the right end (end of the string) only.  \n",
    "  - `lstrip()` – removes whitespace on the left end (start of the string) only.\n",
    "\n",
    "Example:  "
   ]
  },
  {
   "cell_type": "code",
   "execution_count": 13,
   "id": "0ccb21ca-8234-4ade-a88b-f3f723f295b9",
   "metadata": {},
   "outputs": [
    {
     "name": "stdout",
     "output_type": "stream",
     "text": [
      "Data Science is cool!\n"
     ]
    }
   ],
   "source": [
    "raw_text = \"   Data Science is cool!   \\n\"\n",
    "cleaned_text = raw_text.strip()\n",
    "print(cleaned_text)  # \"Data Science is cool!\""
   ]
  },
  {
   "cell_type": "markdown",
   "id": "e571e894-a7a9-4837-89d1-d0ca06e1617c",
   "metadata": {},
   "source": [
    "This is super handy when cleaning up user input or data from files that might have accidental spaces. No more weird bugs from an extra space messing up a comparison!\n",
    "\n",
    "- **Find and replace**: Need to find a substring or replace part of a string?  \n",
    "  - `replace(old, new)` – replaces all occurrences of the substring `old` with `new`.  \n",
    "  - `find(sub)` – returns the index of the first occurrence of `sub` in the string (or -1 if not found).\n",
    "\n",
    "Example:  "
   ]
  },
  {
   "cell_type": "code",
   "execution_count": 15,
   "id": "b45523c9-5ba9-44b2-8715-997e83363d68",
   "metadata": {},
   "outputs": [
    {
     "name": "stdout",
     "output_type": "stream",
     "text": [
      "Data Science is awesome! Data Science is versatile.\n",
      "10\n"
     ]
    }
   ],
   "source": [
    "sentence = \"Python is awesome! Python is versatile.\"\n",
    "print(sentence.replace(\"Python\", \"Data Science\"))\n",
    "# \"Data Science is awesome! Data Science is versatile.\"\n",
    "print(sentence.find(\"awesome\"))\n",
    "# this might output an index like 12 (position where \"awesome\" starts)"
   ]
  },
  {
   "cell_type": "markdown",
   "id": "60fb7750-1869-4868-a29d-0f4a60c3726f",
   "metadata": {},
   "source": [
    "`replace` is great for quick substitutions (like censoring a word or updating a phrase), and `find` helps when you need to locate something in the text. (There's also a similar method `index()` which is like `find` but will error if the substring isn’t found, whereas `find` gives -1. Use whichever you prefer.)\n",
    "\n",
    "These are just a few of the string methods available. Python has a whole bunch more (like checking if a string is all digits, splitting a string into a list of words, etc.), but the ones above are enough to cover a lot of common tasks when starting out.\n",
    "\n",
    "**Important:** Remember how we said these methods don’t change the original string? That’s because Python strings are **immutable**. Immutable means **unchangeable**. Once a string is created, you can’t modify it in place. Any operation that transforms a string (like making it uppercase or replacing parts of it) actually creates a brand new string and leaves the original untouched.\n",
    "\n",
    "For example:  "
   ]
  },
  {
   "cell_type": "code",
   "execution_count": 16,
   "id": "9f0aef63-7951-4e7d-851e-53861a78a6b3",
   "metadata": {},
   "outputs": [
    {
     "name": "stdout",
     "output_type": "stream",
     "text": [
      "Ada\n",
      "ADA\n"
     ]
    }
   ],
   "source": [
    "name = \"Ada\"\n",
    "name.upper()\n",
    "print(name)        # Still \"Ada\", because upper() didn't change it in place\n",
    "name = name.upper()\n",
    "print(name)        # Now it's \"ADA\", because we reassigned the result back to name"
   ]
  },
  {
   "cell_type": "markdown",
   "id": "049adcf0-5042-42f8-8a7c-1f62efb7ca77",
   "metadata": {},
   "source": [
    "In the first `name.upper()` call, Python gave us a new string \"ADA\" but we didn’t save it, so it was lost to the ether. By assigning `name = name.upper()`, we caught that new string in the `name` variable. 🧠 Immutability might seem like a nuisance (why not just change the thing directly, right?), but it has benefits for performance and avoiding accidental side-effects. Just keep in mind: if you use a string method and want to keep the result, assign it to a variable (maybe the same variable if you want to update it).\n",
    "\n",
    "One more neat trick: Python lets you repeat strings using the `*` operator. This isn’t a method, but it’s too fun not to mention. If you want to laugh \"ha\" three times: `\"ha\" * 3` gives `\"hahaha\"`. Useful for quick text generation or just adding some flair:"
   ]
  },
  {
   "cell_type": "code",
   "execution_count": 17,
   "id": "885a00dc-d1b7-4e19-ba75-dc0c4548b234",
   "metadata": {},
   "outputs": [
    {
     "name": "stdout",
     "output_type": "stream",
     "text": [
      "----------\n"
     ]
    }
   ],
   "source": [
    "print(\"-\" * 10)  # prints a line of 10 dashes, like \"----------\""
   ]
  },
  {
   "cell_type": "markdown",
   "id": "d4a4b0d0-99ae-420a-a3c8-09b4faa4c7e0",
   "metadata": {},
   "source": [
    "This can create simple separators or dividers in your output. Not an everyday tool, but one to keep in your back pocket."
   ]
  },
  {
   "cell_type": "markdown",
   "id": "ef95d405-2c50-46ba-b623-2451d8cfc287",
   "metadata": {},
   "source": [
    "## In-Notebook Practice: Try It Yourself\n",
    "\n",
    "Time to roll up your sleeves and play with some strings. Open your Jupyter Notebook and try these mini-experiments to reinforce what you’ve learned:\n",
    "\n",
    "### Experiment 1: F-String vs. Concatenation  \n",
    "Create a variable `user = \"Taylor\"` and `points = 42`. Try printing a message like `\"Taylor has 42 points\"` using concatenation (with `+` and `str()`) for the number and then with an f-string. Example:"
   ]
  },
  {
   "cell_type": "code",
   "execution_count": 18,
   "id": "8ce9dcfa-f378-4e31-80cb-c1ec3b13e988",
   "metadata": {},
   "outputs": [
    {
     "name": "stdout",
     "output_type": "stream",
     "text": [
      "Congrats, Taylor! You scored 42 points.\n",
      "Congrats, Taylor! You scored 42 points.\n"
     ]
    }
   ],
   "source": [
    "user = \"Taylor\"\n",
    "points = 42\n",
    "\n",
    "# Using concatenation:\n",
    "print(\"Congrats, \" + user + \"! You scored \" + str(points) + \" points.\")\n",
    "\n",
    "# Using an f-string:\n",
    "print(f\"Congrats, {user}! You scored {points} points.\")"
   ]
  },
  {
   "cell_type": "markdown",
   "id": "08a1942c-6a0f-4ad7-adda-5756a2cc89aa",
   "metadata": {},
   "source": [
    "Both lines should output the same thing. Which one do you find cleaner? 🧠\n",
    "\n",
    "### Experiment 2: Testing String Methods  \n",
    "Take a string with weird casing or extra spaces and clean it up. For instance:"
   ]
  },
  {
   "cell_type": "code",
   "execution_count": 19,
   "id": "d9298483-a4cf-442c-bddc-5339a3c50bb6",
   "metadata": {},
   "outputs": [
    {
     "name": "stdout",
     "output_type": "stream",
     "text": [
      "   python is fun!  \n",
      "\n",
      "PYThon is FUN!\n",
      "PYTHON IS FUN!\n"
     ]
    }
   ],
   "source": [
    "messy = \"   PYThon is FUN!  \\n\"\n",
    "print(messy.lower())        # see it all in lowercase\n",
    "print(messy.strip())        # remove surrounding whitespace/newline\n",
    "print(messy.upper().strip())  # upper-case and strip in one go"
   ]
  },
  {
   "cell_type": "markdown",
   "id": "bb6e7f9d-2f9a-4b2a-ba42-4d0b0224e79e",
   "metadata": {},
   "source": [
    "Observe how each method works. Try adding a `.replace(\"FUN\", \"powerful\")` at the end of one of those and see what you get. The possibilities are endless when you chain methods like this.\n",
    "\n",
    "### Experiment 3: Immutability Check  \n",
    "Confirm that strings are immutable by doing:"
   ]
  },
  {
   "cell_type": "code",
   "execution_count": 20,
   "id": "5b89d535-682f-4c53-9563-341adb24e94a",
   "metadata": {},
   "outputs": [
    {
     "name": "stdout",
     "output_type": "stream",
     "text": [
      "immutable\n",
      "IMMUTABLE\n"
     ]
    }
   ],
   "source": [
    "s = \"immutable\"\n",
    "s.upper()\n",
    "print(s)        # s will still be \"immutable\"\n",
    "s = s.upper()\n",
    "print(s)        # now s is \"IMMUTABLE\""
   ]
  },
  {
   "cell_type": "markdown",
   "id": "3ed0e702-e660-4486-ad77-f1e4fd678661",
   "metadata": {},
   "source": [
    "This will show you that without reassigning, `s` stays the same after `s.upper()`. With reassignment, it changes. It's a little nuance of Python that's worth understanding early on.\n",
    "\n",
    "Mess around with other string methods if you’re curious. For example, try `s.capitalize()`, `s.find(\"mut\")`, or even `len(s)` to get the length of the string. Python is a playground, and the more you experiment, the more comfortable you’ll get. No harm done if you break something in the notebook — that’s what the reset kernel button is for 😄"
   ]
  },
  {
   "cell_type": "markdown",
   "id": "cab1b199-b2ff-408a-9e7f-6e6f3780aad9",
   "metadata": {},
   "source": [
    "## Assessments\n",
    "\n",
    "Time to test your understanding of string manipulation. These exercises are practical and reflect things you might actually do in a data role. Give them a shot:\n",
    "\n",
    "### Coding Challenges\n",
    "\n",
    "1. **Personalized Welcome**: You're writing a program for a retail website to greet new users. You have a variable `customer_name = \"Jane\"` and a variable `account_balance = 150`. Use an f-string to print a message like: `\"Hello, Jane! Your balance is $150.\"` (Don't forget to include the `$` in the message. The number is an int, but f-strings will handle that for you.)\n",
    "\n",
    "2. **All Uppercase Shout-Out**: At a team meeting, you want to display the project code name loudly. You have `project = \"Zeus\"`. Write code to print the project name in all uppercase letters, prefixed by `\"PROJECT: \"`. The output should be: `PROJECT: ZEUS`. (Hint: use a string method to upper-case the name.)\n",
    "\n",
    "3. **Clean That Input**: Suppose you asked a user to enter their country and they accidentally added spaces before and after the name. For example, `country = \"   Canada   \"`. Write code to strip the whitespace and print a message: `\"Selected country: Canada\"` (You should get rid of the extra spaces before concatenating or formatting the string.)\n",
    "\n",
    "### Multiple Choice Questions\n",
    "\n",
    "1. You have `name = \"Alice\"`. What is the difference between `print(name)` and `print(\"name\")`?  \n",
    "   A. `print(name)` will output Alice, while `print(\"name\")` will output the literal word *name*.  \n",
    "   B. There is no difference. Both will output *Alice*.  \n",
    "   C. `print(name)` causes an error, but `print(\"name\")` works.  \n",
    "   D. `print(\"name\")` will try to find a variable called *name*.\n",
    "\n",
    "2. Which of the following code snippets will **NOT** produce an error in Python? (Assume the variables exist where needed.)  \n",
    "   A. `age = 30; print(\"I am \" + age + \" years old\")`  \n",
    "   B. `age = 30; print(\"I am \" + str(age) + \" years old\")`  \n",
    "   C. `age = \"30\"; print(f\"I am {age} years old\")`  \n",
    "   D. `print(f\"I am {30} years old\")`\n",
    "\n",
    "*(Choose the one correct answer)*\n",
    "\n",
    "---"
   ]
  },
  {
   "cell_type": "markdown",
   "id": "a9535601-1060-4406-8962-b25df56b1e58",
   "metadata": {},
   "source": [
    "## Lesson Summary & Cheat Sheet\n",
    "\n",
    "That was a jam-packed lesson! 🎉 Let’s recap the high points and lock in what you’ve learned about working with text in Python:\n",
    "\n",
    "- **Strings are for text:** A string (`str` type) holds characters like letters, numbers, symbols – basically any text. You create one by putting text in quotes. E.g., `\"Hello\"` or `'World'` or even `\"\"` (empty string).\n",
    "\n",
    "- **Combining strings:** Use `+` to concatenate (join) strings. But if you need to include non-string data (like numbers), you must convert it to a string first or use a formatting method. Attempting `\"Age: \" + 30` will error – you should do `\"Age: \" + str(30)` or use an f-string.\n",
    "\n",
    "- **F-Strings (Formatted Strings):** Prefix a string with `f` and put variables in `{}` inside it. Example: `f\"{name} is {age} years old\"` will replace the placeholders with the values of `name` and `age`. This is the modern, clean way to build strings with dynamic content (way easier than old `%` or `format` methods).\n",
    "\n",
    "- **Common string methods:** Python gives you built-in functions to tweak text:\n",
    "  - `s.upper()` → returns an uppercase version of string `s`.\n",
    "  - `s.lower()` → returns a lowercase version.\n",
    "  - `s.strip()` → removes leading/trailing whitespace. (Use `s.rstrip()` or `s.lstrip()` for just right or left side.)\n",
    "  - `s.replace(\"old\", \"new\")` → swaps all occurrences of `\"old\"` with `\"new\"` in `s`.\n",
    "  - `s.find(\"sub\")` → finds the index of `\"sub\"` in `s` (or -1 if not found).\n",
    "\n",
    "  *(There are many more, but these will cover 90% of your needs starting out.)*\n",
    "\n",
    "- **Strings are immutable:** Once a string is created, it cannot be changed in place. All string methods that modify text will return a new string. Always remember to store that new string in a variable if you want to use it later. (If you call methods without assignment, the original stays the same.)\n",
    "\n",
    "- **Length of a string:** Use the `len()` function to get the number of characters in a string. E.g., `len(\"Hello\")` returns `5`. This counts letters, numbers, spaces, punctuation – every character. This is useful when you need to check things like message length or iterate through text.\n",
    "\n",
    "Keep this cheat sheet handy as you practice. Mastering strings means you’ll be comfortable dealing with text data, which is a huge part of real-world data science (think tweets, logs, user input, etc.).\n",
    "\n",
    "In the next lesson, we’ll move on to a new kind of structure: **lists**. That’s right – you’ll learn how to store and manage collections of items (like a list of user names or a series of numbers) and do cool things with them. But that’s for next time. For now, give yourself a pat on the back for conquering text manipulation in Python. You’ve added a crucial tool to your data science toolkit!\n",
    "\n",
    "---\n",
    "\n",
    "## Python Strings Trivia That Actually Shows Up in Interviews\n",
    "\n",
    "Some interviewers love to quiz you on fundamentals to make sure you really know your stuff. Here are a few string-related trivia bits that might pop up (and now you'll be ready to answer):\n",
    "\n",
    "- **Are Python strings mutable or immutable?** They are **immutable**. This means you cannot change a string once it’s created — any operation that modifies a string will produce a new string. (Interviewers ask this to gauge if you understand how Python manages memory for things like strings.)\n",
    "\n",
    "- **What does the 'f' in f-string stand for?** It stands for **formatted string literal**. F-strings were introduced in Python 3.6 as a way to embed expressions inside string literals conveniently. They’re called \"formatted\" strings because they let you format/insert values on the fly. (If you mention PEP 498 — the Python Enhancement Proposal that introduced f-strings — you’ll sound like a true Python nerd 🧠.)\n",
    "\n",
    "- **How else can you format strings in Python?** Besides f-strings, you can use the older `%` operator (old C-style) or the `.format()` method. For example, `\"Name: %s\" % name` or `\"Name: {}\".format(name)` achieve similar outcomes. F-strings are generally preferred now for their clarity and efficiency.\n",
    "\n",
    "- **Why are they called \"strings\"?** The term \"string\" comes from the idea of a “string of characters” threaded together. Historically, even back in older languages like C, a string was seen as a sequence (or chain) of characters in memory. No relation to guitar strings, but it’s a fun image to picture characters linked one after another!\n",
    "\n",
    "- **Unicode support:** Python 3 stores strings in Unicode, meaning it can handle text from just about any written language (and symbols like emojis) natively. This is why you can do `print(\"¡Hola! 😀\")` and it works just fine. If you’re ever asked, “Can Python handle international characters or accents?” – the answer is a resounding yes.\n",
    "\n",
    "Keep these tidbits in your back pocket. They not only make you better at understanding Python’s behavior, but they also come in handy when you need to impress in an interview or explain a tricky bug to a colleague. Now you’ve got the know-how to tackle text like a pro! Let’s move on to the next chapter and keep the momentum going. Happy coding!\n",
    "\n",
    "---\n"
   ]
  },
  {
   "cell_type": "code",
   "execution_count": null,
   "id": "a0ebc70f-db0c-4488-861e-ff81fcf35018",
   "metadata": {},
   "outputs": [],
   "source": []
  }
 ],
 "metadata": {
  "kernelspec": {
   "display_name": "Python 3 (ipykernel)",
   "language": "python",
   "name": "python3"
  },
  "language_info": {
   "codemirror_mode": {
    "name": "ipython",
    "version": 3
   },
   "file_extension": ".py",
   "mimetype": "text/x-python",
   "name": "python",
   "nbconvert_exporter": "python",
   "pygments_lexer": "ipython3",
   "version": "3.12.8"
  }
 },
 "nbformat": 4,
 "nbformat_minor": 5
}
